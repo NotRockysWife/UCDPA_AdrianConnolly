{
 "cells": [
  {
   "cell_type": "code",
   "execution_count": 29,
   "id": "aad9d448",
   "metadata": {},
   "outputs": [
    {
     "name": "stdout",
     "output_type": "stream",
     "text": [
      "                                        Title  \\\n",
      "0  Star Wars: Episode VII - The Force Awakens   \n",
      "1                           Avengers: Endgame   \n",
      "2                                      Avatar   \n",
      "3                               Black Panther   \n",
      "4                      Avengers: Infinity War   \n",
      "\n",
      "                                          Movie Info  \\\n",
      "0  As a new threat to the galaxy rises, Rey, a de...   \n",
      "1  After the devastating events of Avengers: Infi...   \n",
      "2  A paraplegic Marine dispatched to the moon Pan...   \n",
      "3  T'Challa, heir to the hidden but advanced king...   \n",
      "4  The Avengers and their allies must be willing ...   \n",
      "\n",
      "                           Distributor               Date  \\\n",
      "0  Walt Disney Studios Motion Pictures  December 16, 2015   \n",
      "1  Walt Disney Studios Motion Pictures     April 24, 2019   \n",
      "2                Twentieth Century Fox  December 16, 2009   \n",
      "3  Walt Disney Studios Motion Pictures                NaN   \n",
      "4  Walt Disney Studios Motion Pictures                NaN   \n",
      "\n",
      "   Domestic Sales (in $)  International Sales (in $)  World Sales (in $)  \\\n",
      "0              936662225                  1132859475          2069521700   \n",
      "1              858373000                  1939128328          2797501328   \n",
      "2              760507625                  2086738578          2847246203   \n",
      "3              700426566                   647171407          1347597973   \n",
      "4              678815482                  1369544272          2048359754   \n",
      "\n",
      "                                          Genre Movie Runtime License  \n",
      "0             ['Action', 'Adventure', 'Sci-Fi']   2 hr 18 min   PG-13  \n",
      "1    ['Action', 'Adventure', 'Drama', 'Sci-Fi']    3 hr 1 min   PG-13  \n",
      "2  ['Action', 'Adventure', 'Fantasy', 'Sci-Fi']   2 hr 42 min   PG-13  \n",
      "3             ['Action', 'Adventure', 'Sci-Fi']   2 hr 14 min     NaN  \n",
      "4             ['Action', 'Adventure', 'Sci-Fi']   2 hr 29 min     NaN  \n"
     ]
    }
   ],
   "source": [
    "import pandas as pd\n",
    "import numpy as np\n",
    "import seaborn as sns\n",
    "import matplotlib.pyplot as plt\n",
    "\n",
    "movies = pd.read_csv('Highest Holywood Grossing Movies.csv',index_col = 'Unnamed: 0')\n",
    "movies.rename(columns = {'Release Date':'Date'}, inplace=True)\n",
    "print(movies.head())"
   ]
  },
  {
   "cell_type": "code",
   "execution_count": 30,
   "id": "5a62551c",
   "metadata": {},
   "outputs": [
    {
     "name": "stdout",
     "output_type": "stream",
     "text": [
      "                                        Title  \\\n",
      "2                                      Avatar   \n",
      "1                           Avengers: Endgame   \n",
      "6                                     Titanic   \n",
      "0  Star Wars: Episode VII - The Force Awakens   \n",
      "4                      Avengers: Infinity War   \n",
      "\n",
      "                                          Movie Info  \\\n",
      "2  A paraplegic Marine dispatched to the moon Pan...   \n",
      "1  After the devastating events of Avengers: Infi...   \n",
      "6  A seventeen-year-old aristocrat falls in love ...   \n",
      "0  As a new threat to the galaxy rises, Rey, a de...   \n",
      "4  The Avengers and their allies must be willing ...   \n",
      "\n",
      "                           Distributor               Date  \\\n",
      "2                Twentieth Century Fox  December 16, 2009   \n",
      "1  Walt Disney Studios Motion Pictures     April 24, 2019   \n",
      "6                   Paramount Pictures  December 19, 1997   \n",
      "0  Walt Disney Studios Motion Pictures  December 16, 2015   \n",
      "4  Walt Disney Studios Motion Pictures                NaN   \n",
      "\n",
      "   Domestic Sales (in $)  International Sales (in $)  World Sales (in $)  \\\n",
      "2              760507625                  2086738578          2847246203   \n",
      "1              858373000                  1939128328          2797501328   \n",
      "6              659363944                  1542283320          2201647264   \n",
      "0              936662225                  1132859475          2069521700   \n",
      "4              678815482                  1369544272          2048359754   \n",
      "\n",
      "                                          Genre Movie Runtime License  \n",
      "2  ['Action', 'Adventure', 'Fantasy', 'Sci-Fi']   2 hr 42 min   PG-13  \n",
      "1    ['Action', 'Adventure', 'Drama', 'Sci-Fi']    3 hr 1 min   PG-13  \n",
      "6                          ['Drama', 'Romance']   3 hr 14 min   PG-13  \n",
      "0             ['Action', 'Adventure', 'Sci-Fi']   2 hr 18 min   PG-13  \n",
      "4             ['Action', 'Adventure', 'Sci-Fi']   2 hr 29 min     NaN  \n"
     ]
    }
   ],
   "source": [
    "#Sorting\n",
    "total_gross = movies.sort_values(\"World Sales (in $)\", ascending = False)\n",
    "print(total_gross.head())"
   ]
  },
  {
   "cell_type": "code",
   "execution_count": 4,
   "id": "c9a5b9bf",
   "metadata": {},
   "outputs": [
    {
     "name": "stdout",
     "output_type": "stream",
     "text": [
      "Index(['Title', 'Movie Info', 'Distributor', 'Release Date',\n",
      "       'Domestic Sales (in $)', 'International Sales (in $)',\n",
      "       'World Sales (in $)', 'Genre', 'Movie Runtime', 'License'],\n",
      "      dtype='object')\n",
      "Index(['Title', 'Distributor', 'Release Date', 'Domestic Sales (in $)',\n",
      "       'International Sales (in $)', 'World Sales (in $)', 'Genre',\n",
      "       'Movie Runtime', 'License'],\n",
      "      dtype='object')\n",
      "<bound method NDFrame.head of                                           Title  \\\n",
      "0    Star Wars: Episode VII - The Force Awakens   \n",
      "1                             Avengers: Endgame   \n",
      "2                                        Avatar   \n",
      "3                                 Black Panther   \n",
      "4                        Avengers: Infinity War   \n",
      "..                                          ...   \n",
      "913                                The Notebook   \n",
      "914                   Jimmy Neutron: Boy Genius   \n",
      "915                               Eat Pray Love   \n",
      "916                 The Texas Chainsaw Massacre   \n",
      "917                                   Zookeeper   \n",
      "\n",
      "                             Distributor       Release Date  \\\n",
      "0    Walt Disney Studios Motion Pictures  December 16, 2015   \n",
      "1    Walt Disney Studios Motion Pictures     April 24, 2019   \n",
      "2                  Twentieth Century Fox  December 16, 2009   \n",
      "3    Walt Disney Studios Motion Pictures                NaN   \n",
      "4    Walt Disney Studios Motion Pictures                NaN   \n",
      "..                                   ...                ...   \n",
      "913                      New Line Cinema      June 25, 2004   \n",
      "914                   Paramount Pictures  December 21, 2001   \n",
      "915    Sony Pictures Entertainment (SPE)    August 13, 2010   \n",
      "916                      New Line Cinema   October 17, 2003   \n",
      "917    Sony Pictures Entertainment (SPE)       July 6, 2011   \n",
      "\n",
      "     Domestic Sales (in $)  International Sales (in $)  World Sales (in $)  \\\n",
      "0                936662225                  1132859475          2069521700   \n",
      "1                858373000                  1939128328          2797501328   \n",
      "2                760507625                  2086738578          2847246203   \n",
      "3                700426566                   647171407          1347597973   \n",
      "4                678815482                  1369544272          2048359754   \n",
      "..                     ...                         ...                 ...   \n",
      "913               81001787                    36813370           117815157   \n",
      "914               80936232                    22056304           102992536   \n",
      "915               80574010                   124020006           204594016   \n",
      "916               80571655                    26792250           107363905   \n",
      "917               80360843                    89491916           169852759   \n",
      "\n",
      "                                                 Genre Movie Runtime License  \n",
      "0                    ['Action', 'Adventure', 'Sci-Fi']   2 hr 18 min   PG-13  \n",
      "1           ['Action', 'Adventure', 'Drama', 'Sci-Fi']    3 hr 1 min   PG-13  \n",
      "2         ['Action', 'Adventure', 'Fantasy', 'Sci-Fi']   2 hr 42 min   PG-13  \n",
      "3                    ['Action', 'Adventure', 'Sci-Fi']   2 hr 14 min     NaN  \n",
      "4                    ['Action', 'Adventure', 'Sci-Fi']   2 hr 29 min     NaN  \n",
      "..                                                 ...           ...     ...  \n",
      "913                               ['Drama', 'Romance']    2 hr 3 min   PG-13  \n",
      "914  ['Action', 'Adventure', 'Animation', 'Comedy',...   1 hr 22 min     NaN  \n",
      "915                  ['Biography', 'Drama', 'Romance']   2 hr 13 min   PG-13  \n",
      "916                                ['Crime', 'Horror']   1 hr 38 min       R  \n",
      "917         ['Comedy', 'Family', 'Fantasy', 'Romance']   1 hr 42 min      PG  \n",
      "\n",
      "[918 rows x 9 columns]>\n"
     ]
    }
   ],
   "source": [
    "#dropping columns\n",
    "columns_to_drop = ['Movie Info']\n",
    "print(movies.columns)\n",
    "new_movies = movies.drop(columns=columns_to_drop)\n",
    "print(new_movies.columns)\n",
    "print(new_movies.head)"
   ]
  },
  {
   "cell_type": "code",
   "execution_count": 5,
   "id": "80ad6e40",
   "metadata": {},
   "outputs": [
    {
     "name": "stdout",
     "output_type": "stream",
     "text": [
      "                            Distributor  World Sales\n",
      "32  Walt Disney Studios Motion Pictures  82372098598\n",
      "33                         Warner Bros.  63597493931\n",
      "27                Twentieth Century Fox  48588894179\n",
      "31                   Universal Pictures  45602644818\n",
      "23    Sony Pictures Entertainment (SPE)  37456488081\n",
      "16                   Paramount Pictures  32443523480\n",
      "4                            DreamWorks  10412975902\n",
      "10                            Lionsgate   7498505934\n",
      "13                      New Line Cinema   7066345995\n",
      "5               DreamWorks Distribution   5814639953\n",
      "11            Metro-Goldwyn-Mayer (MGM)   3717884355\n",
      "24                 Summit Entertainment   2729159486\n",
      "26                     TriStar Pictures   2483548026\n",
      "12                              Miramax   2058591162\n",
      "25                The Weinstein Company   1822188393\n",
      "18                   Revolution Studios   1442436078\n",
      "2                     Columbia Pictures   1374209626\n",
      "3                       Dimension Films   1223005113\n",
      "8              Fox Searchlight Pictures   1117424454\n",
      "15                       Orion Pictures    835497402\n",
      "14                      Newmarket Films    612054506\n",
      "29                       United Artists    502019233\n",
      "20                    STX Entertainment    467355852\n",
      "21                          Screen Gems    449946079\n",
      "7                        Focus Features    415922809\n",
      "9                             IFC Films    368744044\n",
      "6                          FilmDistrict    332189519\n",
      "0                  20th Century Studios    331503757\n",
      "1                 Artisan Entertainment    248639099\n",
      "17                     Relativity Media    226904017\n",
      "22               Sony Pictures Classics    213525736\n",
      "28                            USA Films    207515725\n",
      "30             United Artists Releasing    203783845\n",
      "19                 Roadside Attractions     86086881\n"
     ]
    }
   ],
   "source": [
    "# Group by Distributor; calc total world sales, rename columns, indexing\n",
    "sales_by_dist = new_movies.groupby(\"Distributor\",as_index=False)[\"World Sales (in $)\"].sum().rename(columns={'Distributor':'Distributor','World Sales (in $)' : 'World Sales'})\n",
    "sorted_sales_by_dist=sales_by_dist.sort_values(\"World Sales\",ascending=False)\n",
    "print(sorted_sales_by_dist)"
   ]
  },
  {
   "cell_type": "code",
   "execution_count": 6,
   "id": "60967066",
   "metadata": {},
   "outputs": [
    {
     "name": "stdout",
     "output_type": "stream",
     "text": [
      "Title:  Avatar\n",
      "Year:  2009\n",
      "Rated:  PG-13\n",
      "Released:  18 Dec 2009\n",
      "Runtime:  162 min\n",
      "Genre:  Action, Adventure, Fantasy\n",
      "Director:  James Cameron\n",
      "Writer:  James Cameron\n",
      "Actors:  Sam Worthington, Zoe Saldana, Sigourney Weaver\n",
      "Plot:  A paraplegic Marine dispatched to the moon Pandora on a unique mission becomes torn between following his orders and protecting the world he feels is his home.\n",
      "Language:  English, Spanish\n",
      "Country:  United States\n",
      "Awards:  Won 3 Oscars. 89 wins & 131 nominations total\n",
      "Poster:  https://m.media-amazon.com/images/M/MV5BZDA0OGQxNTItMDZkMC00N2UyLTg3MzMtYTJmNjg3Nzk5MzRiXkEyXkFqcGdeQXVyMjUzOTY1NTc@._V1_SX300.jpg\n",
      "Ratings:  [{'Source': 'Internet Movie Database', 'Value': '7.9/10'}, {'Source': 'Rotten Tomatoes', 'Value': '82%'}, {'Source': 'Metacritic', 'Value': '83/100'}]\n",
      "Metascore:  83\n",
      "imdbRating:  7.9\n",
      "imdbVotes:  1,313,610\n",
      "imdbID:  tt0499549\n",
      "Type:  movie\n",
      "DVD:  22 Apr 2010\n",
      "BoxOffice:  $785,221,649\n",
      "Production:  N/A\n",
      "Website:  N/A\n",
      "Response:  True\n"
     ]
    }
   ],
   "source": [
    "# Import requests package, online API\n",
    "import requests\n",
    "\n",
    "# Assign URL to variable: url\n",
    "url = 'http://www.omdbapi.com/?apikey=72bc447a&t=avatar'\n",
    "\n",
    "# Package the request, send the request and catch the response: r\n",
    "r = requests.get(url)\n",
    "\n",
    "# Decode the JSON data into a dictionary: json_data\n",
    "json_data=r.json()\n",
    "\n",
    "# Print each key-value pair in json_data\n",
    "for k in json_data.keys():\n",
    "    print(k + ': ', json_data[k])"
   ]
  },
  {
   "cell_type": "code",
   "execution_count": 7,
   "id": "9188ca34",
   "metadata": {},
   "outputs": [
    {
     "name": "stdout",
     "output_type": "stream",
     "text": [
      "                                                 Genre  World Sales\n",
      "52                   ['Action', 'Adventure', 'Sci-Fi']  41522408939\n",
      "44        ['Action', 'Adventure', 'Fantasy', 'Sci-Fi']  16932858353\n",
      "53                 ['Action', 'Adventure', 'Thriller']  13526614959\n",
      "51       ['Action', 'Adventure', 'Sci-Fi', 'Thriller']  11286067658\n",
      "135  ['Adventure', 'Animation', 'Comedy', 'Family',...   8712541892\n",
      "..                                                 ...          ...\n",
      "289                        ['Drama', 'Mystery', 'War']     92158064\n",
      "151  ['Adventure', 'Animation', 'Family', 'Fantasy'...     87404651\n",
      "207          ['Biography', 'Drama', 'Family', 'Music']     86086881\n",
      "255                                  ['Comedy', 'War']     85297000\n",
      "238                         ['Comedy', 'Drama', 'War']     81600000\n",
      "\n",
      "[309 rows x 2 columns]\n"
     ]
    }
   ],
   "source": [
    "sales_by_genre = new_movies.groupby(\"Genre\",as_index=False)[\"World Sales (in $)\"].sum().rename(columns={'Genre':'Genre','World Sales (in $)' : 'World Sales'})\n",
    "sorted_sales_by_genre=sales_by_genre.sort_values(\"World Sales\",ascending=False)\n",
    "print(sorted_sales_by_genre)"
   ]
  },
  {
   "cell_type": "code",
   "execution_count": 8,
   "id": "99f22238",
   "metadata": {},
   "outputs": [
    {
     "name": "stdout",
     "output_type": "stream",
     "text": [
      "<bound method NDFrame.head of             id                                Title  \\\n",
      "0       315162         Puss in Boots: The Last Wish   \n",
      "1       536554                                M3GAN   \n",
      "2        76600             Avatar: The Way of Water   \n",
      "3       956101                    The Eighth Clause   \n",
      "4       846433                         The Enforcer   \n",
      "...        ...                                  ...   \n",
      "728436  544068               Ka-Ching! Pokie Nation   \n",
      "728437  502377  Me, My Gypsy Family and Woody Allen   \n",
      "728438  497852                          The Refugee   \n",
      "728439  527902        Film-collage 2 - introduction   \n",
      "728440  968161                        Gising Sining   \n",
      "\n",
      "                                                  genres original_language  \\\n",
      "0       Animation-Action-Adventure-Comedy-Family-Fantasy                en   \n",
      "1                          Science Fiction-Horror-Comedy                en   \n",
      "2                       Science Fiction-Adventure-Action                en   \n",
      "3                                               Thriller                la   \n",
      "4                                  Action-Thriller-Drama                en   \n",
      "...                                                  ...               ...   \n",
      "728436                                       Documentary                en   \n",
      "728437                                               NaN                it   \n",
      "728438                                             Drama                ja   \n",
      "728439                                               NaN                en   \n",
      "728440                                               NaN                tl   \n",
      "\n",
      "                                                 overview  popularity  \\\n",
      "0       Puss in Boots discovers that his passion for a...    6689.647   \n",
      "1       A brilliant toy company roboticist uses artifi...    6474.848   \n",
      "2       Set more than a decade after the events of the...    2623.833   \n",
      "3       Kat and Borja appear to be a perfect couple bu...    2259.303   \n",
      "4       A noir thriller set in Miami the film follows ...    2153.960   \n",
      "...                                                   ...         ...   \n",
      "728436  In this ground-breaking expose industry inside...       0.600   \n",
      "728437  The title of this documentary short refers to ...       0.600   \n",
      "728438  A Chinese medical student named Gan Shosho fin...       0.600   \n",
      "728439  Couldn't the impossibility to communicate be c...       0.600   \n",
      "728440  In a country where fascism foolishness of peop...       0.600   \n",
      "\n",
      "                                     production_companies Release Date  \\\n",
      "0                 Universal Pictures-DreamWorks Animation   2022-12-07   \n",
      "1       Universal Pictures-Blumhouse Productions-Atomi...   2022-01-04   \n",
      "2           Lightstorm Entertainment-20th Century Studios   2022-12-14   \n",
      "3                            SDB Films-El Hombre Orquesta   2022-04-29   \n",
      "4       Millennium Films-Born to Burn Films-Millenium ...   2022-09-22   \n",
      "...                                                   ...          ...   \n",
      "728436                                                NaN   2016-05-21   \n",
      "728437                                 Romedia Foundation   2009-02-01   \n",
      "728438                                           Shochiku   1955-05-03   \n",
      "728439                                                NaN   2018-01-01   \n",
      "728440                                          Studio RD          NaN   \n",
      "\n",
      "             budget       revenue  runtime    status  \\\n",
      "0        90000000.0  2.975045e+08    103.0  Released   \n",
      "1        12000000.0  1.129417e+08    102.0  Released   \n",
      "2       460000000.0  2.024000e+09    192.0  Released   \n",
      "3               0.0  0.000000e+00      0.0  Released   \n",
      "4               0.0  0.000000e+00     91.0  Released   \n",
      "...             ...           ...      ...       ...   \n",
      "728436     524000.0  0.000000e+00     52.0  Released   \n",
      "728437          0.0  0.000000e+00      3.0  Released   \n",
      "728438          0.0  0.000000e+00    135.0  Released   \n",
      "728439          0.0  0.000000e+00      6.0  Released   \n",
      "728440          0.0  0.000000e+00     19.0  Released   \n",
      "\n",
      "                                                  tagline  vote_average  \\\n",
      "0                         Say hola to his little friends.         8.590   \n",
      "1                                 Friendship has evolved.         7.251   \n",
      "2                                      Return to Pandora.         7.721   \n",
      "3                                                     NaN         4.600   \n",
      "4                           Some guardians aren't angels.         6.904   \n",
      "...                                                   ...           ...   \n",
      "728436  They're rigged, they're addictive, they're eve...         7.000   \n",
      "728437                                                NaN         0.000   \n",
      "728438                                                NaN         0.000   \n",
      "728439                                                NaN         0.000   \n",
      "728440                                                NaN         0.000   \n",
      "\n",
      "        vote_count                                            credits  \\\n",
      "0           2514.0  Antonio Banderas-Salma Hayek-Harvey Guillén-Wa...   \n",
      "1            511.0  Allison Williams-Violet McGraw-Jenna Davis-Ami...   \n",
      "2           4572.0  Sam Worthington-Zoe Saldaña-Sigourney Weaver-B...   \n",
      "3             10.0  Maite Perroni-Manuel Vega-Óscar Jaenada-Jessic...   \n",
      "4             73.0  Antonio Banderas-Kate Bosworth-Mojean Aria-Ale...   \n",
      "...            ...                                                ...   \n",
      "728436         1.0                                       David Wenham   \n",
      "728437         0.0                                    Laura Halilovic   \n",
      "728438         0.0  Keiko Kishi-Keiji Sada-Shin Saburi-Yūnosuke It...   \n",
      "728439         0.0                                                NaN   \n",
      "728440         0.0                               Ruka Azuma-Mel Perez   \n",
      "\n",
      "                                                 keywords  \\\n",
      "0       fairy tale-talking dog-spin off-aftercreditsst...   \n",
      "1       evil doll-aunt niece relationship-orphan-car a...   \n",
      "2       loss of loved one-dying and death-alien life-f...   \n",
      "3                                                     NaN   \n",
      "4                                                     NaN   \n",
      "...                                                   ...   \n",
      "728436                                                NaN   \n",
      "728437                                                NaN   \n",
      "728438           japan-refugee-world war ii-1950s-nanjing   \n",
      "728439                                                NaN   \n",
      "728440                                                NaN   \n",
      "\n",
      "                             poster_path                     backdrop_path  \\\n",
      "0       /kuf6dutpsT0vSVehic3EZIqkOBt.jpg  /tGwO4xcBjhXC0p5qlkw37TrH6S6.jpg   \n",
      "1       /rxDPzExeovcBZY2IVWdYs87AzVE.jpg  /dlrWhn0G3AtxYUx2D9P2bmzcsvF.jpg   \n",
      "2       /t6HIqrRAclMCA60NsSmeqe9RmNV.jpg  /s16H6tpK2utvwDtzZ8Qy4qm5Emw.jpg   \n",
      "3       /8tc8eMFAX2SDC1TRu987qFQy8Cl.jpg  /kLnqNE9Af5QHyvUxw8cDGhF1ilv.jpg   \n",
      "4       /72V1r1G8S87ELagVxjqAUdChMCt.jpg  /Aqldsq65Nj1KAkQD2MzkZsAk5N5.jpg   \n",
      "...                                  ...                               ...   \n",
      "728436  /adJJMruk0ZD7rOJ6Lu1Nuhat33Z.jpg  /iohgYMmaBbPlgYf3uAxBpbS3PeG.jpg   \n",
      "728437                               NaN                               NaN   \n",
      "728438  /ckC0urDF4yd5YfrVfjDUW8yliGD.jpg                               NaN   \n",
      "728439                               NaN                               NaN   \n",
      "728440   /jv34KgS7D997H5kbVYxKLJRScg.jpg                               NaN   \n",
      "\n",
      "                                          recommendations  \n",
      "0       830784-826173-417859-76600-877269-5334-46632-6...  \n",
      "1       615777-674324-661374-48209-593643-696157-67671...  \n",
      "2       505642-436270-661374-555604-736526-830784-8991...  \n",
      "3                                                     NaN  \n",
      "4       937278-696157-854239-888321-842942-31662-97418...  \n",
      "...                                                   ...  \n",
      "728436                                                NaN  \n",
      "728437                                                NaN  \n",
      "728438                                                NaN  \n",
      "728439                                                NaN  \n",
      "728440                                                NaN  \n",
      "\n",
      "[728441 rows x 20 columns]>\n"
     ]
    }
   ],
   "source": [
    "#Merge Dataframes\n",
    "import pandas as pd\n",
    "movie_stats = pd.read_csv(\"movies.csv\")\n",
    "movie_stats.rename(columns = {'title':'Title','release_date':'Release Date'}, inplace = True)\n",
    "print(movie_stats.head)"
   ]
  },
  {
   "cell_type": "code",
   "execution_count": 11,
   "id": "e208eba3",
   "metadata": {},
   "outputs": [
    {
     "name": "stdout",
     "output_type": "stream",
     "text": [
      "          id                                              Title  \\\n",
      "0        411  The Chronicles of Narnia: The Lion, the Witch ...   \n",
      "1      19995                                             Avatar   \n",
      "2     421403                                             Avatar   \n",
      "3     282908                                             Avatar   \n",
      "4     417859                                      Puss in Boots   \n",
      "...      ...                                                ...   \n",
      "2409     330                      The Lost World: Jurassic Park   \n",
      "2410     331                                  Jurassic Park III   \n",
      "2411   36657                                              X-Men   \n",
      "2412  699457                               Three Men and a Baby   \n",
      "2413  699457                               Three Men and a Baby   \n",
      "\n",
      "                                                genres original_language  \\\n",
      "0                             Adventure-Family-Fantasy                en   \n",
      "1             Action-Adventure-Fantasy-Science Fiction                en   \n",
      "2                                                  NaN                bn   \n",
      "3                                               Horror                ja   \n",
      "4     Action-Animation-Adventure-Comedy-Family-Western                en   \n",
      "...                                                ...               ...   \n",
      "2409                  Adventure-Action-Science Fiction                en   \n",
      "2410         Adventure-Action-Thriller-Science Fiction                en   \n",
      "2411                  Adventure-Action-Science Fiction                en   \n",
      "2412                                     Comedy-Family                en   \n",
      "2413                                     Comedy-Family                en   \n",
      "\n",
      "                                               overview  popularity  \\\n",
      "0     Siblings Lucy Edmund Susan and Peter step thro...    1959.883   \n",
      "1     In the 22nd century a paraplegic Marine is dis...    1280.718   \n",
      "2     Indranath’s son is ill Guru Omkarananda sugges...      14.795   \n",
      "3     Michiko lost her dad in a car accident when sh...       3.058   \n",
      "4     Long before he even met Shrek the notorious fi...     603.574   \n",
      "...                                                 ...         ...   \n",
      "2409  Four years after Jurassic Park's genetically b...       2.003   \n",
      "2410  In need of funds for research Dr. Alan Grant a...       1.868   \n",
      "2411  Two mutants Rogue and Wolverine come to a priv...       1.795   \n",
      "2412  Life for an NYC bachelor and his two single fr...       0.856   \n",
      "2413  Life for an NYC bachelor and his two single fr...       0.706   \n",
      "\n",
      "                                   production_companies Release Date_x  \\\n",
      "0     Walt Disney Pictures-Walden Media-C.S. Lewis C...     2005-12-07   \n",
      "1     20th Century Fox-Ingenious Media-Dune Entertai...     2009-12-15   \n",
      "2                                                   NaN     1941-09-16   \n",
      "3                                                   NaN     2011-04-30   \n",
      "4                                  DreamWorks Animation     2011-10-27   \n",
      "...                                                 ...            ...   \n",
      "2409  Universal Pictures-Amblin Entertainment-Digita...     1997-05-23   \n",
      "2410            Universal Pictures-Amblin Entertainment     2001-07-18   \n",
      "2411  20th Century Fox-The Donners' Company-Bad Hat ...     2000-07-13   \n",
      "2412                               Walt Disney Pictures            NaN   \n",
      "2413                               Walt Disney Pictures            NaN   \n",
      "\n",
      "           budget       revenue  ...                     backdrop_path  \\\n",
      "0     180000000.0  7.450131e+08  ...  /AuV99eQivVWuk2AOSM6hYh9QRPQ.jpg   \n",
      "1     237000000.0  2.920357e+09  ...  /8I37NtDffNV7AZlDa7uDvvqhovU.jpg   \n",
      "2             0.0  0.000000e+00  ...                               NaN   \n",
      "3             0.0  0.000000e+00  ...  /gO81IsgrhwUS6aChXCjnjFKUS3S.jpg   \n",
      "4     130000000.0  5.549875e+08  ...  /eSdpZZQubPSZ47qppFfUPbKsWlw.jpg   \n",
      "...           ...           ...  ...                               ...   \n",
      "2409   73000000.0  6.186390e+08  ...  /w9eBtIHHpGgGfjqnEAJM3s7mCOa.jpg   \n",
      "2410   93000000.0  3.687808e+08  ...  /9jFWActtkANe3NexnPkHEDnYfl3.jpg   \n",
      "2411   75000000.0  2.963395e+08  ...  /A9fpAjZLqsODM96aI6kx147LPM9.jpg   \n",
      "2412          0.0  0.000000e+00  ...                               NaN   \n",
      "2413          0.0  0.000000e+00  ...                               NaN   \n",
      "\n",
      "                                        recommendations  \\\n",
      "0     2454-10140-24257-21-1593-953-425-32657-950-809...   \n",
      "1     1010821-773867-572261-24428-70160-49026-49051-...   \n",
      "2                                                   NaN   \n",
      "3                                                   NaN   \n",
      "4     83201-810-10192-315162-10527-809-80321-65714-4...   \n",
      "...                                                 ...   \n",
      "2409  331-329-135397-87-217-8373-1858-36668-564-607-...   \n",
      "2410  330-329-135397-351286-933908-1734-217-49455-56...   \n",
      "2411  36658-36668-2080-49538-76170-127585-558-1858-3...   \n",
      "2412                                                NaN   \n",
      "2413                                                NaN   \n",
      "\n",
      "                              Distributor     Release Date_y  \\\n",
      "0     Walt Disney Studios Motion Pictures   December 7, 2005   \n",
      "1                   Twentieth Century Fox  December 16, 2009   \n",
      "2                   Twentieth Century Fox  December 16, 2009   \n",
      "3                   Twentieth Century Fox  December 16, 2009   \n",
      "4                              DreamWorks   October 27, 2011   \n",
      "...                                   ...                ...   \n",
      "2409                   Universal Pictures       May 23, 1997   \n",
      "2410                   Universal Pictures       July 5, 2001   \n",
      "2411                Twentieth Century Fox      July 13, 2000   \n",
      "2412  Walt Disney Studios Motion Pictures  November 25, 1987   \n",
      "2413  Walt Disney Studios Motion Pictures  November 25, 1987   \n",
      "\n",
      "      Domestic Sales (in $) International Sales (in $) World Sales (in $)  \\\n",
      "0                 291710957                  453302158          745013115   \n",
      "1                 760507625                 2086738578         2847246203   \n",
      "2                 760507625                 2086738578         2847246203   \n",
      "3                 760507625                 2086738578         2847246203   \n",
      "4                 149260504                  405726973          554987477   \n",
      "...                     ...                        ...                ...   \n",
      "2409              229086679                  389552320          618638999   \n",
      "2410              181171875                  187608934          368780809   \n",
      "2411              157299718                  139039810          296339528   \n",
      "2412              167780960                  167780960          167780960   \n",
      "2413              167780960                  167780960          167780960   \n",
      "\n",
      "                                                  Genre Movie Runtime License  \n",
      "0                    ['Adventure', 'Family', 'Fantasy']   2 hr 23 min      PG  \n",
      "1          ['Action', 'Adventure', 'Fantasy', 'Sci-Fi']   2 hr 42 min   PG-13  \n",
      "2          ['Action', 'Adventure', 'Fantasy', 'Sci-Fi']   2 hr 42 min   PG-13  \n",
      "3          ['Action', 'Adventure', 'Fantasy', 'Sci-Fi']   2 hr 42 min   PG-13  \n",
      "4     ['Adventure', 'Animation', 'Comedy', 'Family',...   1 hr 30 min      PG  \n",
      "...                                                 ...           ...     ...  \n",
      "2409                  ['Action', 'Adventure', 'Sci-Fi']    2 hr 9 min   PG-13  \n",
      "2410      ['Action', 'Adventure', 'Sci-Fi', 'Thriller']   1 hr 32 min   PG-13  \n",
      "2411                  ['Action', 'Adventure', 'Sci-Fi']   1 hr 44 min   PG-13  \n",
      "2412                      ['Comedy', 'Drama', 'Family']   1 hr 42 min     NaN  \n",
      "2413                      ['Comedy', 'Drama', 'Family']   1 hr 42 min     NaN  \n",
      "\n",
      "[2414 rows x 28 columns]\n"
     ]
    }
   ],
   "source": [
    "movie_info = movie_stats.merge(new_movies,on=['Title'])\n",
    "print(movie_info)"
   ]
  },
  {
   "cell_type": "code",
   "execution_count": 12,
   "id": "61eeb939",
   "metadata": {},
   "outputs": [
    {
     "name": "stdout",
     "output_type": "stream",
     "text": [
      "                                              Distributor        Budget\n",
      "80159                                      Marvel Studios  4.798500e+09\n",
      "136789                         Walt Disney Pictures-Pixar  2.992045e+09\n",
      "38071                                DreamWorks Animation  2.258000e+09\n",
      "136854  Walt Disney Pictures-Walt Disney Animation Stu...  1.805000e+09\n",
      "95437                                           Paramount  1.639214e+09\n",
      "...                                                   ...           ...\n",
      "51826                                       Gaiam Fitness  0.000000e+00\n",
      "51825              Gaiam Entertainment-Renegade Animation  0.000000e+00\n",
      "51824                                 Gaiam Entertainment  0.000000e+00\n",
      "51823                                    Gaia Productions  0.000000e+00\n",
      "145088                                               한맥문화  0.000000e+00\n",
      "\n",
      "[145089 rows x 2 columns]\n"
     ]
    }
   ],
   "source": [
    "budget_by_dist = movie_stats.groupby(\"production_companies\",as_index=False)[\"budget\"].sum().rename(columns={'production_companies':'Distributor','budget' : 'Budget'})\n",
    "sorted_budget_by_dist=budget_by_dist.sort_values(\"Budget\",ascending=False)\n",
    "print(sorted_budget_by_dist)"
   ]
  },
  {
   "cell_type": "code",
   "execution_count": 14,
   "id": "a0cd9c6d",
   "metadata": {},
   "outputs": [
    {
     "data": {
      "image/png": "[encoded data removed]",
      "text/plain": [
       "<Figure size 432x288 with 1 Axes>"
      ]
     },
     "metadata": {
      "needs_background": "light"
     },
     "output_type": "display_data"
    }
   ],
   "source": [
    "import matplotlib.pyplot as plt\n",
    "# Create a Figure and an Axes with plt.subplots\n",
    "fig, ax = plt.subplots()\n",
    "\n",
    "# Plot sales from sorted_sales_by_dist against distributor\n",
    "ax.plot(sorted_sales_by_dist[\"Distributor\"], sorted_sales_by_dist[\"World Sales\"])\n",
    "\n",
    "# Call the show function\n",
    "plt.show()"
   ]
  },
  {
   "cell_type": "code",
   "execution_count": 21,
   "id": "831d3ead",
   "metadata": {},
   "outputs": [
    {
     "data": {
      "image/png": "[encoded data removed]",
      "text/plain": [
       "<Figure size 432x288 with 1 Axes>"
      ]
     },
     "metadata": {
      "needs_background": "light"
     },
     "output_type": "display_data"
    }
   ],
   "source": [
    "import seaborn as sns\n",
    "sns.barplot(x='World Sales',y='Distributor',data = sorted_sales_by_dist.head(10),palette='magma')\n",
    "plt.ylabel('Movie Name')\n",
    "plt.xlabel('Collection (Dollars)')\n",
    "plt.title('Top 10 Movies')\n",
    "plt.xticks([0,2500000000,2000000000,1500000000,1000000000,500000000], ['0',\"2.5B\",'2B','1.5B','1B','50M'])\n",
    "plt.show()"
   ]
  },
  {
   "cell_type": "code",
   "execution_count": 22,
   "id": "33b8048e",
   "metadata": {},
   "outputs": [
    {
     "name": "stdout",
     "output_type": "stream",
     "text": [
      "['Action', 'Adventure', 'SciFi', 'Action', 'Adventure', 'Drama', 'SciFi', 'Action', 'Adventure', 'Fantasy']\n"
     ]
    }
   ],
   "source": [
    "List = []\n",
    "def sep_values(val):\n",
    "  x = str()\n",
    "  b1 = True\n",
    "  for i in val:\n",
    "    if i.isalpha():\n",
    "      x += i\n",
    "    elif i == \"'\" and b1 == True:\n",
    "      b1 = False\n",
    "    elif i == \"'\" and b1 == False:\n",
    "      b1 = True\n",
    "      List.append(x)\n",
    "      x = str()\n",
    "\n",
    "\n",
    "\n",
    "movies['Genre'].apply(sep_values)\n",
    "print(List[:10])"
   ]
  },
  {
   "cell_type": "code",
   "execution_count": 23,
   "id": "3652e8d7",
   "metadata": {},
   "outputs": [],
   "source": [
    "from collections import Counter\n",
    "Freq = Counter(List)\n",
    "\n",
    "GenreFreq = pd.DataFrame(list(Freq.items()),columns = ['Genre','Count'])\n",
    "GenreFreq.sort_values(by='Count', ascending = False,inplace = True)"
   ]
  },
  {
   "cell_type": "code",
   "execution_count": 24,
   "id": "a25288cc",
   "metadata": {},
   "outputs": [
    {
     "data": {
      "image/png": "[encoded data removed]",
      "text/plain": [
       "<Figure size 432x288 with 1 Axes>"
      ]
     },
     "metadata": {
      "needs_background": "light"
     },
     "output_type": "display_data"
    }
   ],
   "source": [
    "sns.barplot(x=GenreFreq['Genre'],y=GenreFreq['Count'],data = GenreFreq)\n",
    "plt.xticks(rotation=90)\n",
    "plt.title('Frequency of movie Genre')\n",
    "plt.show()"
   ]
  },
  {
   "cell_type": "code",
   "execution_count": 32,
   "id": "8adb2e10",
   "metadata": {},
   "outputs": [
    {
     "name": "stdout",
     "output_type": "stream",
     "text": [
      "<class 'pandas.core.frame.DataFrame'>\n",
      "DatetimeIndex: 918 entries, 2015-12-16 to 2011-07-06\n",
      "Data columns (total 9 columns):\n",
      " #   Column                      Non-Null Count  Dtype \n",
      "---  ------                      --------------  ----- \n",
      " 0   Title                       918 non-null    object\n",
      " 1   Movie Info                  918 non-null    object\n",
      " 2   Distributor                 918 non-null    object\n",
      " 3   Domestic Sales (in $)       918 non-null    int64 \n",
      " 4   International Sales (in $)  918 non-null    int64 \n",
      " 5   World Sales (in $)          918 non-null    int64 \n",
      " 6   Genre                       918 non-null    object\n",
      " 7   Movie Runtime               918 non-null    object\n",
      " 8   License                     744 non-null    object\n",
      "dtypes: int64(3), object(6)\n",
      "memory usage: 71.7+ KB\n",
      "None\n"
     ]
    },
    {
     "data": {
      "image/png": "[encoded data removed]",
      "text/plain": [
       "<Figure size 432x288 with 3 Axes>"
      ]
     },
     "metadata": {
      "needs_background": "light"
     },
     "output_type": "display_data"
    }
   ],
   "source": [
    "# Convert the date column to datetime64\n",
    "movies.Date = pd.to_datetime(movies.Date)\n",
    "\n",
    "# Set date column as index\n",
    "movies.set_index('Date', inplace=True)\n",
    "\n",
    "# Inspect data \n",
    "print(movies.info())\n",
    "\n",
    "# Plot data\n",
    "movies.plot(subplots=True)\n",
    "plt.show()"
   ]
  },
  {
   "cell_type": "code",
   "execution_count": null,
   "id": "dbb2372e",
   "metadata": {},
   "outputs": [],
   "source": []
  }
 ],
 "metadata": {
  "kernelspec": {
   "display_name": "Python 3",
   "language": "python",
   "name": "python3"
  },
  "language_info": {
   "codemirror_mode": {
    "name": "ipython",
    "version": 3
   },
   "file_extension": ".py",
   "mimetype": "text/x-python",
   "name": "python",
   "nbconvert_exporter": "python",
   "pygments_lexer": "ipython3",
   "version": "3.8.8"
  }
 },
 "nbformat": 4,
 "nbformat_minor": 5
}
