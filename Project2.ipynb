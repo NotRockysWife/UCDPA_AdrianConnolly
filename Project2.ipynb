{
 "cells": [
  {
   "cell_type": "code",
   "execution_count": 4,
   "id": "d7684980",
   "metadata": {},
   "outputs": [
    {
     "name": "stdout",
     "output_type": "stream",
     "text": [
      "                                        Title  \\\n",
      "0  Star Wars: Episode VII - The Force Awakens   \n",
      "1                           Avengers: Endgame   \n",
      "2                                      Avatar   \n",
      "3                               Black Panther   \n",
      "4                      Avengers: Infinity War   \n",
      "\n",
      "                                          Movie Info  \\\n",
      "0  As a new threat to the galaxy rises, Rey, a de...   \n",
      "1  After the devastating events of Avengers: Infi...   \n",
      "2  A paraplegic Marine dispatched to the moon Pan...   \n",
      "3  T'Challa, heir to the hidden but advanced king...   \n",
      "4  The Avengers and their allies must be willing ...   \n",
      "\n",
      "                           Distributor               Date  \\\n",
      "0  Walt Disney Studios Motion Pictures  December 16, 2015   \n",
      "1  Walt Disney Studios Motion Pictures     April 24, 2019   \n",
      "2                Twentieth Century Fox  December 16, 2009   \n",
      "3  Walt Disney Studios Motion Pictures                NaN   \n",
      "4  Walt Disney Studios Motion Pictures                NaN   \n",
      "\n",
      "   Domestic Sales (in $)  International Sales (in $)  World Sales (in $)  \\\n",
      "0              936662225                  1132859475          2069521700   \n",
      "1              858373000                  1939128328          2797501328   \n",
      "2              760507625                  2086738578          2847246203   \n",
      "3              700426566                   647171407          1347597973   \n",
      "4              678815482                  1369544272          2048359754   \n",
      "\n",
      "                                          Genre Movie Runtime License  \n",
      "0             ['Action', 'Adventure', 'Sci-Fi']   2 hr 18 min   PG-13  \n",
      "1    ['Action', 'Adventure', 'Drama', 'Sci-Fi']    3 hr 1 min   PG-13  \n",
      "2  ['Action', 'Adventure', 'Fantasy', 'Sci-Fi']   2 hr 42 min   PG-13  \n",
      "3             ['Action', 'Adventure', 'Sci-Fi']   2 hr 14 min     NaN  \n",
      "4             ['Action', 'Adventure', 'Sci-Fi']   2 hr 29 min     NaN  \n"
     ]
    }
   ],
   "source": [
    "import pandas as pd\n",
    "movies = pd.read_csv('Highest Holywood Grossing Movies.csv',index_col = 'Unnamed: 0')\n",
    "movies.rename(columns = {'Release Date':'Date'}, inplace=True)\n",
    "print(movies.head())"
   ]
  },
  {
   "cell_type": "code",
   "execution_count": 6,
   "id": "c82d33ed",
   "metadata": {},
   "outputs": [
    {
     "name": "stdout",
     "output_type": "stream",
     "text": [
      "                                        Title  \\\n",
      "2                                      Avatar   \n",
      "1                           Avengers: Endgame   \n",
      "6                                     Titanic   \n",
      "0  Star Wars: Episode VII - The Force Awakens   \n",
      "4                      Avengers: Infinity War   \n",
      "\n",
      "                                          Movie Info  \\\n",
      "2  A paraplegic Marine dispatched to the moon Pan...   \n",
      "1  After the devastating events of Avengers: Infi...   \n",
      "6  A seventeen-year-old aristocrat falls in love ...   \n",
      "0  As a new threat to the galaxy rises, Rey, a de...   \n",
      "4  The Avengers and their allies must be willing ...   \n",
      "\n",
      "                           Distributor               Date  \\\n",
      "2                Twentieth Century Fox  December 16, 2009   \n",
      "1  Walt Disney Studios Motion Pictures     April 24, 2019   \n",
      "6                   Paramount Pictures  December 19, 1997   \n",
      "0  Walt Disney Studios Motion Pictures  December 16, 2015   \n",
      "4  Walt Disney Studios Motion Pictures                NaN   \n",
      "\n",
      "   Domestic Sales (in $)  International Sales (in $)  World Sales (in $)  \\\n",
      "2              760507625                  2086738578          2847246203   \n",
      "1              858373000                  1939128328          2797501328   \n",
      "6              659363944                  1542283320          2201647264   \n",
      "0              936662225                  1132859475          2069521700   \n",
      "4              678815482                  1369544272          2048359754   \n",
      "\n",
      "                                          Genre Movie Runtime License  \n",
      "2  ['Action', 'Adventure', 'Fantasy', 'Sci-Fi']   2 hr 42 min   PG-13  \n",
      "1    ['Action', 'Adventure', 'Drama', 'Sci-Fi']    3 hr 1 min   PG-13  \n",
      "6                          ['Drama', 'Romance']   3 hr 14 min   PG-13  \n",
      "0             ['Action', 'Adventure', 'Sci-Fi']   2 hr 18 min   PG-13  \n",
      "4             ['Action', 'Adventure', 'Sci-Fi']   2 hr 29 min     NaN  \n"
     ]
    }
   ],
   "source": [
    "#Sorting\n",
    "total_gross = movies.sort_values(\"World Sales (in $)\", ascending = False)\n",
    "print(total_gross.head())"
   ]
  },
  {
   "cell_type": "code",
   "execution_count": 8,
   "id": "51f609fe",
   "metadata": {},
   "outputs": [
    {
     "name": "stdout",
     "output_type": "stream",
     "text": [
      "Index(['Title', 'Movie Info', 'Distributor', 'Date', 'Domestic Sales (in $)',\n",
      "       'International Sales (in $)', 'World Sales (in $)', 'Genre',\n",
      "       'Movie Runtime', 'License'],\n",
      "      dtype='object')\n",
      "Index(['Title', 'Distributor', 'Date', 'Domestic Sales (in $)',\n",
      "       'International Sales (in $)', 'World Sales (in $)', 'Genre',\n",
      "       'Movie Runtime', 'License'],\n",
      "      dtype='object')\n",
      "<bound method NDFrame.head of                                           Title  \\\n",
      "0    Star Wars: Episode VII - The Force Awakens   \n",
      "1                             Avengers: Endgame   \n",
      "2                                        Avatar   \n",
      "3                                 Black Panther   \n",
      "4                        Avengers: Infinity War   \n",
      "..                                          ...   \n",
      "913                                The Notebook   \n",
      "914                   Jimmy Neutron: Boy Genius   \n",
      "915                               Eat Pray Love   \n",
      "916                 The Texas Chainsaw Massacre   \n",
      "917                                   Zookeeper   \n",
      "\n",
      "                             Distributor               Date  \\\n",
      "0    Walt Disney Studios Motion Pictures  December 16, 2015   \n",
      "1    Walt Disney Studios Motion Pictures     April 24, 2019   \n",
      "2                  Twentieth Century Fox  December 16, 2009   \n",
      "3    Walt Disney Studios Motion Pictures                NaN   \n",
      "4    Walt Disney Studios Motion Pictures                NaN   \n",
      "..                                   ...                ...   \n",
      "913                      New Line Cinema      June 25, 2004   \n",
      "914                   Paramount Pictures  December 21, 2001   \n",
      "915    Sony Pictures Entertainment (SPE)    August 13, 2010   \n",
      "916                      New Line Cinema   October 17, 2003   \n",
      "917    Sony Pictures Entertainment (SPE)       July 6, 2011   \n",
      "\n",
      "     Domestic Sales (in $)  International Sales (in $)  World Sales (in $)  \\\n",
      "0                936662225                  1132859475          2069521700   \n",
      "1                858373000                  1939128328          2797501328   \n",
      "2                760507625                  2086738578          2847246203   \n",
      "3                700426566                   647171407          1347597973   \n",
      "4                678815482                  1369544272          2048359754   \n",
      "..                     ...                         ...                 ...   \n",
      "913               81001787                    36813370           117815157   \n",
      "914               80936232                    22056304           102992536   \n",
      "915               80574010                   124020006           204594016   \n",
      "916               80571655                    26792250           107363905   \n",
      "917               80360843                    89491916           169852759   \n",
      "\n",
      "                                                 Genre Movie Runtime License  \n",
      "0                    ['Action', 'Adventure', 'Sci-Fi']   2 hr 18 min   PG-13  \n",
      "1           ['Action', 'Adventure', 'Drama', 'Sci-Fi']    3 hr 1 min   PG-13  \n",
      "2         ['Action', 'Adventure', 'Fantasy', 'Sci-Fi']   2 hr 42 min   PG-13  \n",
      "3                    ['Action', 'Adventure', 'Sci-Fi']   2 hr 14 min     NaN  \n",
      "4                    ['Action', 'Adventure', 'Sci-Fi']   2 hr 29 min     NaN  \n",
      "..                                                 ...           ...     ...  \n",
      "913                               ['Drama', 'Romance']    2 hr 3 min   PG-13  \n",
      "914  ['Action', 'Adventure', 'Animation', 'Comedy',...   1 hr 22 min     NaN  \n",
      "915                  ['Biography', 'Drama', 'Romance']   2 hr 13 min   PG-13  \n",
      "916                                ['Crime', 'Horror']   1 hr 38 min       R  \n",
      "917         ['Comedy', 'Family', 'Fantasy', 'Romance']   1 hr 42 min      PG  \n",
      "\n",
      "[918 rows x 9 columns]>\n"
     ]
    }
   ],
   "source": [
    "#dropping columns\n",
    "columns_to_drop = ['Movie Info']\n",
    "print(movies.columns)\n",
    "new_movies = movies.drop(columns=columns_to_drop)\n",
    "print(new_movies.columns)\n",
    "print(new_movies.head)"
   ]
  },
  {
   "cell_type": "code",
   "execution_count": 9,
   "id": "919a01bc",
   "metadata": {},
   "outputs": [
    {
     "name": "stdout",
     "output_type": "stream",
     "text": [
      "                            Distributor  World Sales\n",
      "32  Walt Disney Studios Motion Pictures  82372098598\n",
      "33                         Warner Bros.  63597493931\n",
      "27                Twentieth Century Fox  48588894179\n",
      "31                   Universal Pictures  45602644818\n",
      "23    Sony Pictures Entertainment (SPE)  37456488081\n",
      "16                   Paramount Pictures  32443523480\n",
      "4                            DreamWorks  10412975902\n",
      "10                            Lionsgate   7498505934\n",
      "13                      New Line Cinema   7066345995\n",
      "5               DreamWorks Distribution   5814639953\n",
      "11            Metro-Goldwyn-Mayer (MGM)   3717884355\n",
      "24                 Summit Entertainment   2729159486\n",
      "26                     TriStar Pictures   2483548026\n",
      "12                              Miramax   2058591162\n",
      "25                The Weinstein Company   1822188393\n",
      "18                   Revolution Studios   1442436078\n",
      "2                     Columbia Pictures   1374209626\n",
      "3                       Dimension Films   1223005113\n",
      "8              Fox Searchlight Pictures   1117424454\n",
      "15                       Orion Pictures    835497402\n",
      "14                      Newmarket Films    612054506\n",
      "29                       United Artists    502019233\n",
      "20                    STX Entertainment    467355852\n",
      "21                          Screen Gems    449946079\n",
      "7                        Focus Features    415922809\n",
      "9                             IFC Films    368744044\n",
      "6                          FilmDistrict    332189519\n",
      "0                  20th Century Studios    331503757\n",
      "1                 Artisan Entertainment    248639099\n",
      "17                     Relativity Media    226904017\n",
      "22               Sony Pictures Classics    213525736\n",
      "28                            USA Films    207515725\n",
      "30             United Artists Releasing    203783845\n",
      "19                 Roadside Attractions     86086881\n"
     ]
    }
   ],
   "source": [
    "# Group by Distributor; calc total world sales, rename columns, indexing\n",
    "sales_by_dist = new_movies.groupby(\"Distributor\",as_index=False)[\"World Sales (in $)\"].sum().rename(columns={'Distributor':'Distributor','World Sales (in $)' : 'World Sales'})\n",
    "sorted_sales_by_dist=sales_by_dist.sort_values(\"World Sales\",ascending=False)\n",
    "print(sorted_sales_by_dist)"
   ]
  },
  {
   "cell_type": "code",
   "execution_count": 10,
   "id": "b3e15f5f",
   "metadata": {},
   "outputs": [
    {
     "name": "stdout",
     "output_type": "stream",
     "text": [
      "Title:  Avatar\n",
      "Year:  2009\n",
      "Rated:  PG-13\n",
      "Released:  18 Dec 2009\n",
      "Runtime:  162 min\n",
      "Genre:  Action, Adventure, Fantasy\n",
      "Director:  James Cameron\n",
      "Writer:  James Cameron\n",
      "Actors:  Sam Worthington, Zoe Saldana, Sigourney Weaver\n",
      "Plot:  A paraplegic Marine dispatched to the moon Pandora on a unique mission becomes torn between following his orders and protecting the world he feels is his home.\n",
      "Language:  English, Spanish\n",
      "Country:  United States\n",
      "Awards:  Won 3 Oscars. 89 wins & 131 nominations total\n",
      "Poster:  https://m.media-amazon.com/images/M/MV5BZDA0OGQxNTItMDZkMC00N2UyLTg3MzMtYTJmNjg3Nzk5MzRiXkEyXkFqcGdeQXVyMjUzOTY1NTc@._V1_SX300.jpg\n",
      "Ratings:  [{'Source': 'Internet Movie Database', 'Value': '7.9/10'}, {'Source': 'Rotten Tomatoes', 'Value': '82%'}, {'Source': 'Metacritic', 'Value': '83/100'}]\n",
      "Metascore:  83\n",
      "imdbRating:  7.9\n",
      "imdbVotes:  1,313,610\n",
      "imdbID:  tt0499549\n",
      "Type:  movie\n",
      "DVD:  22 Apr 2010\n",
      "BoxOffice:  $785,221,649\n",
      "Production:  N/A\n",
      "Website:  N/A\n",
      "Response:  True\n"
     ]
    }
   ],
   "source": [
    "# Import requests package, online API\n",
    "import requests\n",
    "\n",
    "# Assign URL to variable: url\n",
    "url = 'http://www.omdbapi.com/?apikey=72bc447a&t=avatar'\n",
    "\n",
    "# Package the request, send the request and catch the response: r\n",
    "r = requests.get(url)\n",
    "\n",
    "# Decode the JSON data into a dictionary: json_data\n",
    "json_data=r.json()\n",
    "\n",
    "# Print each key-value pair in json_data\n",
    "for k in json_data.keys():\n",
    "    print(k + ': ', json_data[k])"
   ]
  },
  {
   "cell_type": "code",
   "execution_count": 6,
   "id": "67fedcf4",
   "metadata": {},
   "outputs": [
    {
     "name": "stdout",
     "output_type": "stream",
     "text": [
      "                                                 Genre  World Sales\n",
      "52                   ['Action', 'Adventure', 'Sci-Fi']  41522408939\n",
      "44        ['Action', 'Adventure', 'Fantasy', 'Sci-Fi']  16932858353\n",
      "53                 ['Action', 'Adventure', 'Thriller']  13526614959\n",
      "51       ['Action', 'Adventure', 'Sci-Fi', 'Thriller']  11286067658\n",
      "135  ['Adventure', 'Animation', 'Comedy', 'Family',...   8712541892\n",
      "..                                                 ...          ...\n",
      "289                        ['Drama', 'Mystery', 'War']     92158064\n",
      "151  ['Adventure', 'Animation', 'Family', 'Fantasy'...     87404651\n",
      "207          ['Biography', 'Drama', 'Family', 'Music']     86086881\n",
      "255                                  ['Comedy', 'War']     85297000\n",
      "238                         ['Comedy', 'Drama', 'War']     81600000\n",
      "\n",
      "[309 rows x 2 columns]\n"
     ]
    }
   ],
   "source": [
    "sales_by_genre = new_movies.groupby(\"Genre\",as_index=False)[\"World Sales (in $)\"].sum().rename(columns={'Genre':'Genre','World Sales (in $)' : 'World Sales'})\n",
    "sorted_sales_by_genre=sales_by_genre.sort_values(\"World Sales\",ascending=False)\n",
    "print(sorted_sales_by_genre)"
   ]
  },
  {
   "cell_type": "code",
   "execution_count": 11,
   "id": "4276ffd2",
   "metadata": {},
   "outputs": [
    {
     "name": "stdout",
     "output_type": "stream",
     "text": [
      "<bound method NDFrame.head of      rank Release Date                                        Title  \\\n",
      "0       1   2019-04-23                            Avengers: Endgame   \n",
      "1       2   2011-05-20  Pirates of the Caribbean: On Stranger Tides   \n",
      "2       3   2015-04-22                      Avengers: Age of Ultron   \n",
      "3       4   2015-12-16         Star Wars Ep. VII: The Force Awakens   \n",
      "4       5   2018-04-25                       Avengers: Infinity War   \n",
      "..    ...          ...                                          ...   \n",
      "495   496   2013-02-06                       A Good Day to Die Hard   \n",
      "496   497   2004-04-09                                    The Alamo   \n",
      "497   498   1995-12-22                             Cutthroat Island   \n",
      "498   499   2013-12-19              The Secret Life of Walter Mitty   \n",
      "499   500   2023-03-09                                           65   \n",
      "\n",
      "                                                   url  production_cost  \\\n",
      "0           /movie/Avengers-Endgame-(2019)#tab=summary        400000000   \n",
      "1    /movie/Pirates-of-the-Caribbean-On-Stranger-Ti...        379000000   \n",
      "2            /movie/Avengers-Age-of-Ultron#tab=summary        365000000   \n",
      "3    /movie/Star-Wars-Ep-VII-The-Force-Awakens#tab=...        306000000   \n",
      "4             /movie/Avengers-Infinity-War#tab=summary        300000000   \n",
      "..                                                 ...              ...   \n",
      "495                      /movie/Die-Hard-5#tab=summary         92000000   \n",
      "496                /movie/Alamo-The-(2004)#tab=summary         92000000   \n",
      "497                /movie/Cutthroat-Island#tab=summary         92000000   \n",
      "498  /movie/Secret-Life-of-Walter-Mitty-The-(2012)#...         91000000   \n",
      "499                       /movie/65-(2022)#tab=summary         91000000   \n",
      "\n",
      "     domestic_gross  worldwide_gross  opening_weekend   mpaa  \\\n",
      "0         858373000       2797800564      357115007.0  PG-13   \n",
      "1         241071802       1045713802       90151958.0  PG-13   \n",
      "2         459005868       1395316979      191271109.0  PG-13   \n",
      "3         936662225       2064615817      247966675.0  PG-13   \n",
      "4         678815482       2048359754      257698183.0  PG-13   \n",
      "..              ...              ...              ...    ...   \n",
      "495        67349198        304249198       24834845.0      R   \n",
      "496        22406362         23911362        9124701.0  PG-13   \n",
      "497        10017322         18517322        2371415.0  PG-13   \n",
      "498        58236838        187861183       12765508.0     PG   \n",
      "499               0                0              NaN    NaN   \n",
      "\n",
      "                 genre  theaters  runtime    year  \n",
      "0               Action    4662.0    181.0  2019.0  \n",
      "1            Adventure    4164.0    136.0  2011.0  \n",
      "2               Action    4276.0    141.0  2015.0  \n",
      "3            Adventure    4134.0    136.0  2015.0  \n",
      "4               Action    4474.0    156.0  2018.0  \n",
      "..                 ...       ...      ...     ...  \n",
      "495             Action    3555.0     98.0  2013.0  \n",
      "496            Western    2609.0    137.0  2004.0  \n",
      "497          Adventure    1619.0      NaN  1995.0  \n",
      "498          Adventure    2922.0    114.0  2013.0  \n",
      "499  Thriller/Suspense       NaN      NaN  2023.0  \n",
      "\n",
      "[500 rows x 13 columns]>\n"
     ]
    }
   ],
   "source": [
    "import pandas as pd\n",
    "movie_stats = pd.read_csv(\"top-500-movies.csv\")\n",
    "movie_stats.rename(columns = {'title':'Title','release_date':'Release Date'}, inplace = True)\n",
    "print(movie_stats.head)"
   ]
  },
  {
   "cell_type": "code",
   "execution_count": 21,
   "id": "963355c0",
   "metadata": {},
   "outputs": [
    {
     "name": "stdout",
     "output_type": "stream",
     "text": [
      "     rank Release Date                                              Title  \\\n",
      "0       1   2019-04-23                                  Avengers: Endgame   \n",
      "1       2   2011-05-20        Pirates of the Caribbean: On Stranger Tides   \n",
      "2       3   2015-04-22                            Avengers: Age of Ultron   \n",
      "3       5   2018-04-25                             Avengers: Infinity War   \n",
      "4       7   2017-11-13                                     Justice League   \n",
      "..    ...          ...                                                ...   \n",
      "308   490   2015-01-29                       Kingsman: The Secret Service   \n",
      "309   491   2001-12-19  The Lord of the Rings: The Fellowship of the Ring   \n",
      "310   492   2001-07-18                                  Jurassic Park III   \n",
      "311   493   2011-08-05                     Rise of the Planet of the Apes   \n",
      "312   495   2004-10-22                                    The Incredibles   \n",
      "\n",
      "                                                   url       Cost  \\\n",
      "0           /movie/Avengers-Endgame-(2019)#tab=summary  400000000   \n",
      "1    /movie/Pirates-of-the-Caribbean-On-Stranger-Ti...  379000000   \n",
      "2            /movie/Avengers-Age-of-Ultron#tab=summary  365000000   \n",
      "3             /movie/Avengers-Infinity-War#tab=summary  300000000   \n",
      "4             /movie/Justice-League-(2017)#tab=summary  300000000   \n",
      "..                                                 ...        ...   \n",
      "308     /movie/Kingsman-The-Secret-Service#tab=summary   94000000   \n",
      "309  /movie/Lord-of-the-Rings-The-Fellowship-of-the...   93000000   \n",
      "310                 /movie/Jurassic-Park-3#tab=summary   93000000   \n",
      "311  /movie/Rise-of-the-Planet-of-the-Apes#tab=summary   93000000   \n",
      "312                 /movie/Incredibles-The#tab=summary   92000000   \n",
      "\n",
      "     domestic_gross  worldwide_gross  opening_weekend   mpaa      genre  ...  \\\n",
      "0         858373000       2797800564      357115007.0  PG-13     Action  ...   \n",
      "1         241071802       1045713802       90151958.0  PG-13  Adventure  ...   \n",
      "2         459005868       1395316979      191271109.0  PG-13     Action  ...   \n",
      "3         678815482       2048359754      257698183.0  PG-13     Action  ...   \n",
      "4         229024295        655945209       93842239.0  PG-13     Action  ...   \n",
      "..              ...              ...              ...    ...        ...  ...   \n",
      "308       128261724        404561724       36206331.0      R     Action  ...   \n",
      "309       315544750        891216824       47211490.0  PG-13  Adventure  ...   \n",
      "310       181166115        365900000       50771645.0  PG-13     Action  ...   \n",
      "311       176760185        470986200       54806191.0  PG-13  Adventure  ...   \n",
      "312       261441092        631441092       70467623.0     PG  Adventure  ...   \n",
      "\n",
      "     runtime    year                          Distributor               Date  \\\n",
      "0      181.0  2019.0  Walt Disney Studios Motion Pictures     April 24, 2019   \n",
      "1      136.0  2011.0  Walt Disney Studios Motion Pictures       May 18, 2011   \n",
      "2      141.0  2015.0  Walt Disney Studios Motion Pictures     April 22, 2015   \n",
      "3      156.0  2018.0  Walt Disney Studios Motion Pictures                NaN   \n",
      "4      121.0  2017.0                         Warner Bros.                NaN   \n",
      "..       ...     ...                                  ...                ...   \n",
      "308    129.0  2015.0                Twentieth Century Fox   January 30, 2015   \n",
      "309    179.0  2001.0                      New Line Cinema  December 19, 2001   \n",
      "310     93.0  2001.0                   Universal Pictures       July 5, 2001   \n",
      "311    120.0  2011.0                Twentieth Century Fox     August 3, 2011   \n",
      "312    115.0  2004.0  Walt Disney Studios Motion Pictures   November 5, 2004   \n",
      "\n",
      "    Domestic Sales (in $)  International Sales (in $)  World Sales  \\\n",
      "0               858373000                  1939128328   2797501328   \n",
      "1               241071802                   804642000   1045713802   \n",
      "2               459005868                   943803672   1402809540   \n",
      "3               678815482                  1369544272   2048359754   \n",
      "4               229024295                   428902692    657926987   \n",
      "..                    ...                         ...          ...   \n",
      "308             128261724                   286089822    414351546   \n",
      "309             315710750                   581979322    897690072   \n",
      "310             181171875                   187608934    368780809   \n",
      "311             176760185                   305040688    481800873   \n",
      "312             261441092                   370165961    631607053   \n",
      "\n",
      "                                              Genre Movie Runtime License  \n",
      "0        ['Action', 'Adventure', 'Drama', 'Sci-Fi']    3 hr 1 min   PG-13  \n",
      "1                ['Action', 'Adventure', 'Fantasy']   2 hr 17 min   PG-13  \n",
      "2                 ['Action', 'Adventure', 'Sci-Fi']   2 hr 21 min   PG-13  \n",
      "3                 ['Action', 'Adventure', 'Sci-Fi']   2 hr 29 min     NaN  \n",
      "4      ['Action', 'Adventure', 'Fantasy', 'Sci-Fi']          2 hr     NaN  \n",
      "..                                              ...           ...     ...  \n",
      "308   ['Action', 'Adventure', 'Comedy', 'Thriller']    2 hr 9 min       R  \n",
      "309     ['Action', 'Adventure', 'Drama', 'Fantasy']   2 hr 58 min   PG-13  \n",
      "310   ['Action', 'Adventure', 'Sci-Fi', 'Thriller']   1 hr 32 min   PG-13  \n",
      "311       ['Action', 'Drama', 'Sci-Fi', 'Thriller']   1 hr 45 min   PG-13  \n",
      "312  ['Action', 'Adventure', 'Animation', 'Family']   1 hr 55 min     NaN  \n",
      "\n",
      "[313 rows x 21 columns]\n"
     ]
    }
   ],
   "source": [
    "movie_info = movie_stats.merge(new_movies,on=['Title']).rename(columns={'production_cost':'Cost','World Sales (in $)' : 'World Sales'})\n",
    "print(movie_info)"
   ]
  },
  {
   "cell_type": "code",
   "execution_count": 13,
   "id": "19971180",
   "metadata": {
    "scrolled": true
   },
   "outputs": [
    {
     "name": "stdout",
     "output_type": "stream",
     "text": [
      "                            Distributor       Budget\n",
      "14  Walt Disney Studios Motion Pictures  14101800000\n",
      "15                         Warner Bros.  10129000000\n",
      "12                Twentieth Century Fox   6024000000\n",
      "9     Sony Pictures Entertainment (SPE)   5104000000\n",
      "13                   Universal Pictures   4541000000\n",
      "7                    Paramount Pictures   4206000000\n",
      "1                            DreamWorks   2351000000\n",
      "3                             Lionsgate    745000000\n",
      "6                       New Line Cinema    586000000\n",
      "4             Metro-Goldwyn-Mayer (MGM)    502000000\n",
      "11                     TriStar Pictures    220000000\n",
      "0                     Columbia Pictures    144000000\n",
      "5                               Miramax    110000000\n",
      "2               DreamWorks Distribution    103000000\n",
      "10                The Weinstein Company    100000000\n",
      "8                    Revolution Studios     95000000\n"
     ]
    }
   ],
   "source": [
    "budget_by_dist = movie_info.groupby(\"Distributor\",as_index=False)[\"production_cost\"].sum().rename(columns={'production_cost':'Budget'})\n",
    "sorted_budget_by_dist=budget_by_dist.sort_values(\"Budget\",ascending=False)\n",
    "print(sorted_budget_by_dist)"
   ]
  },
  {
   "cell_type": "code",
   "execution_count": 14,
   "id": "0a28bfa1",
   "metadata": {},
   "outputs": [
    {
     "data": {
      "image/png": "[encoded data removed]",
      "text/plain": [
       "<Figure size 432x288 with 1 Axes>"
      ]
     },
     "metadata": {
      "needs_background": "light"
     },
     "output_type": "display_data"
    }
   ],
   "source": [
    "import matplotlib.pyplot as plt\n",
    "import seaborn as sns\n",
    "sns.barplot(x='World Sales',y='Distributor',data = sorted_sales_by_dist.head(10),palette='magma')\n",
    "plt.ylabel('Movie Name')\n",
    "plt.xlabel('Collection (Dollars)')\n",
    "plt.title('Top 10 Movies')\n",
    "plt.xticks([0,10000000000,25000000000,50000000000,100000000000], ['0','1B','2.5B','5B','10B'])\n",
    "plt.show()"
   ]
  },
  {
   "cell_type": "code",
   "execution_count": 15,
   "id": "ca131923",
   "metadata": {},
   "outputs": [
    {
     "name": "stdout",
     "output_type": "stream",
     "text": [
      "['Action', 'Adventure', 'SciFi', 'Action', 'Adventure', 'Drama', 'SciFi', 'Action', 'Adventure', 'Fantasy']\n"
     ]
    },
    {
     "data": {
      "image/png": "[encoded data removed]",
      "text/plain": [
       "<Figure size 432x288 with 1 Axes>"
      ]
     },
     "metadata": {
      "needs_background": "light"
     },
     "output_type": "display_data"
    }
   ],
   "source": [
    "List = []\n",
    "def sep_values(val):\n",
    "  x = str()\n",
    "  b1 = True\n",
    "  for i in val:\n",
    "    if i.isalpha():\n",
    "      x += i\n",
    "    elif i == \"'\" and b1 == True:\n",
    "      b1 = False\n",
    "    elif i == \"'\" and b1 == False:\n",
    "      b1 = True\n",
    "      List.append(x)\n",
    "      x = str()\n",
    "\n",
    "\n",
    "\n",
    "movies['Genre'].apply(sep_values)\n",
    "print(List[:10])\n",
    "from collections import Counter\n",
    "Freq = Counter(List)\n",
    "\n",
    "GenreFreq = pd.DataFrame(list(Freq.items()),columns = ['Genre','Count'])\n",
    "GenreFreq.sort_values(by='Count', ascending = False,inplace = True)\n",
    "sns.barplot(x=GenreFreq['Genre'],y=GenreFreq['Count'],data = GenreFreq)\n",
    "plt.xticks(rotation=90)\n",
    "plt.title('Frequency of movie Genre')\n",
    "plt.show()"
   ]
  },
  {
   "cell_type": "code",
   "execution_count": 23,
   "id": "94f747d6",
   "metadata": {},
   "outputs": [
    {
     "name": "stdout",
     "output_type": "stream",
     "text": [
      "<class 'pandas.core.frame.DataFrame'>\n",
      "DatetimeIndex: 918 entries, 2015-12-16 to 2011-07-06\n",
      "Data columns (total 9 columns):\n",
      " #   Column                      Non-Null Count  Dtype \n",
      "---  ------                      --------------  ----- \n",
      " 0   Title                       918 non-null    object\n",
      " 1   Movie Info                  918 non-null    object\n",
      " 2   Distributor                 918 non-null    object\n",
      " 3   Domestic Sales (in $)       918 non-null    int64 \n",
      " 4   International Sales (in $)  918 non-null    int64 \n",
      " 5   World Sales (in $)          918 non-null    int64 \n",
      " 6   Genre                       918 non-null    object\n",
      " 7   Movie Runtime               918 non-null    object\n",
      " 8   License                     744 non-null    object\n",
      "dtypes: int64(3), object(6)\n",
      "memory usage: 71.7+ KB\n",
      "None\n"
     ]
    },
    {
     "data": {
      "image/png": "[encoded data removed]",
      "text/plain": [
       "<Figure size 432x288 with 3 Axes>"
      ]
     },
     "metadata": {
      "needs_background": "light"
     },
     "output_type": "display_data"
    }
   ],
   "source": [
    "# Convert the date column to datetime64\n",
    "movies.Date = pd.to_datetime(movies.Date)\n",
    "\n",
    "# Set date column as index\n",
    "movies.set_index('Date', inplace=True)\n",
    "\n",
    "# Inspect data \n",
    "print(movies.info())\n",
    "\n",
    "# Plot data\n",
    "movies.plot(subplots=True)\n",
    "plt.show()"
   ]
  },
  {
   "cell_type": "code",
   "execution_count": 16,
   "id": "66b7056d",
   "metadata": {},
   "outputs": [
    {
     "data": {
      "image/png": "[encoded data removed]",
      "text/plain": [
       "<Figure size 432x288 with 1 Axes>"
      ]
     },
     "metadata": {
      "needs_background": "light"
     },
     "output_type": "display_data"
    }
   ],
   "source": [
    "import matplotlib.pyplot as plt\n",
    "import seaborn as sns\n",
    "sns.barplot(x='Budget',y='Distributor',data = sorted_budget_by_dist.head(10),palette='magma')\n",
    "plt.ylabel('Movie Name')\n",
    "plt.xlabel('Outlay (Dollars)')\n",
    "plt.title('Top 10 Movies')\n",
    "plt.xticks([0,1000000000,2500000000,5000000000,10000000000], ['0','100M','250M','500M','1B'])\n",
    "plt.show()"
   ]
  },
  {
   "cell_type": "code",
   "execution_count": 23,
   "id": "13a81da9",
   "metadata": {},
   "outputs": [
    {
     "name": "stdout",
     "output_type": "stream",
     "text": [
      "<bound method NDFrame.head of      rank Release Date                                              Title  \\\n",
      "0       1   2019-04-23                                  Avengers: Endgame   \n",
      "1       2   2011-05-20        Pirates of the Caribbean: On Stranger Tides   \n",
      "2       3   2015-04-22                            Avengers: Age of Ultron   \n",
      "3       5   2018-04-25                             Avengers: Infinity War   \n",
      "4       7   2017-11-13                                     Justice League   \n",
      "..    ...          ...                                                ...   \n",
      "308   490   2015-01-29                       Kingsman: The Secret Service   \n",
      "309   491   2001-12-19  The Lord of the Rings: The Fellowship of the Ring   \n",
      "310   492   2001-07-18                                  Jurassic Park III   \n",
      "311   493   2011-08-05                     Rise of the Planet of the Apes   \n",
      "312   495   2004-10-22                                    The Incredibles   \n",
      "\n",
      "                                                   url       Cost  \\\n",
      "0           /movie/Avengers-Endgame-(2019)#tab=summary  400000000   \n",
      "1    /movie/Pirates-of-the-Caribbean-On-Stranger-Ti...  379000000   \n",
      "2            /movie/Avengers-Age-of-Ultron#tab=summary  365000000   \n",
      "3             /movie/Avengers-Infinity-War#tab=summary  300000000   \n",
      "4             /movie/Justice-League-(2017)#tab=summary  300000000   \n",
      "..                                                 ...        ...   \n",
      "308     /movie/Kingsman-The-Secret-Service#tab=summary   94000000   \n",
      "309  /movie/Lord-of-the-Rings-The-Fellowship-of-the...   93000000   \n",
      "310                 /movie/Jurassic-Park-3#tab=summary   93000000   \n",
      "311  /movie/Rise-of-the-Planet-of-the-Apes#tab=summary   93000000   \n",
      "312                 /movie/Incredibles-The#tab=summary   92000000   \n",
      "\n",
      "     domestic_gross  worldwide_gross  opening_weekend   mpaa      genre  ...  \\\n",
      "0         858373000       2797800564      357115007.0  PG-13     Action  ...   \n",
      "1         241071802       1045713802       90151958.0  PG-13  Adventure  ...   \n",
      "2         459005868       1395316979      191271109.0  PG-13     Action  ...   \n",
      "3         678815482       2048359754      257698183.0  PG-13     Action  ...   \n",
      "4         229024295        655945209       93842239.0  PG-13     Action  ...   \n",
      "..              ...              ...              ...    ...        ...  ...   \n",
      "308       128261724        404561724       36206331.0      R     Action  ...   \n",
      "309       315544750        891216824       47211490.0  PG-13  Adventure  ...   \n",
      "310       181166115        365900000       50771645.0  PG-13     Action  ...   \n",
      "311       176760185        470986200       54806191.0  PG-13  Adventure  ...   \n",
      "312       261441092        631441092       70467623.0     PG  Adventure  ...   \n",
      "\n",
      "       year                          Distributor               Date  \\\n",
      "0    2019.0  Walt Disney Studios Motion Pictures     April 24, 2019   \n",
      "1    2011.0  Walt Disney Studios Motion Pictures       May 18, 2011   \n",
      "2    2015.0  Walt Disney Studios Motion Pictures     April 22, 2015   \n",
      "3    2018.0  Walt Disney Studios Motion Pictures                NaN   \n",
      "4    2017.0                         Warner Bros.                NaN   \n",
      "..      ...                                  ...                ...   \n",
      "308  2015.0                Twentieth Century Fox   January 30, 2015   \n",
      "309  2001.0                      New Line Cinema  December 19, 2001   \n",
      "310  2001.0                   Universal Pictures       July 5, 2001   \n",
      "311  2011.0                Twentieth Century Fox     August 3, 2011   \n",
      "312  2004.0  Walt Disney Studios Motion Pictures   November 5, 2004   \n",
      "\n",
      "    Domestic Sales (in $) International Sales (in $)  World Sales  \\\n",
      "0               858373000                 1939128328   2797501328   \n",
      "1               241071802                  804642000   1045713802   \n",
      "2               459005868                  943803672   1402809540   \n",
      "3               678815482                 1369544272   2048359754   \n",
      "4               229024295                  428902692    657926987   \n",
      "..                    ...                        ...          ...   \n",
      "308             128261724                  286089822    414351546   \n",
      "309             315710750                  581979322    897690072   \n",
      "310             181171875                  187608934    368780809   \n",
      "311             176760185                  305040688    481800873   \n",
      "312             261441092                  370165961    631607053   \n",
      "\n",
      "                                              Genre  Movie Runtime License  \\\n",
      "0        ['Action', 'Adventure', 'Drama', 'Sci-Fi']     3 hr 1 min   PG-13   \n",
      "1                ['Action', 'Adventure', 'Fantasy']    2 hr 17 min   PG-13   \n",
      "2                 ['Action', 'Adventure', 'Sci-Fi']    2 hr 21 min   PG-13   \n",
      "3                 ['Action', 'Adventure', 'Sci-Fi']    2 hr 29 min     NaN   \n",
      "4      ['Action', 'Adventure', 'Fantasy', 'Sci-Fi']           2 hr     NaN   \n",
      "..                                              ...            ...     ...   \n",
      "308   ['Action', 'Adventure', 'Comedy', 'Thriller']     2 hr 9 min       R   \n",
      "309     ['Action', 'Adventure', 'Drama', 'Fantasy']    2 hr 58 min   PG-13   \n",
      "310   ['Action', 'Adventure', 'Sci-Fi', 'Thriller']    1 hr 32 min   PG-13   \n",
      "311       ['Action', 'Drama', 'Sci-Fi', 'Thriller']    1 hr 45 min   PG-13   \n",
      "312  ['Action', 'Adventure', 'Animation', 'Family']    1 hr 55 min     NaN   \n",
      "\n",
      "         Profit  \n",
      "0    2397501328  \n",
      "1     666713802  \n",
      "2    1037809540  \n",
      "3    1748359754  \n",
      "4     357926987  \n",
      "..          ...  \n",
      "308   320351546  \n",
      "309   804690072  \n",
      "310   275780809  \n",
      "311   388800873  \n",
      "312   539607053  \n",
      "\n",
      "[313 rows x 22 columns]>\n"
     ]
    }
   ],
   "source": [
    "movie_info['Profit']=movie_info['World Sales'] - movie_info['Cost']\n",
    "print(movie_info.head)"
   ]
  },
  {
   "cell_type": "code",
   "execution_count": 49,
   "id": "3e23f353",
   "metadata": {},
   "outputs": [
    {
     "name": "stdout",
     "output_type": "stream",
     "text": [
      "                            Distributor       Profit\n",
      "0                     Columbia Pictures    152578797\n",
      "1                            DreamWorks   6886754494\n",
      "2               DreamWorks Distribution    362380802\n",
      "3                             Lionsgate   2288028316\n",
      "4             Metro-Goldwyn-Mayer (MGM)   1037016191\n",
      "5                               Miramax    103719942\n",
      "6                       New Line Cinema   2865279116\n",
      "7                    Paramount Pictures   9966828673\n",
      "8                    Revolution Studios     77989651\n",
      "9     Sony Pictures Entertainment (SPE)  13765482385\n",
      "10                The Weinstein Company    326074373\n",
      "11                     TriStar Pictures    587021854\n",
      "12                Twentieth Century Fox  17057281275\n",
      "13                   Universal Pictures  11251200159\n",
      "14  Walt Disney Studios Motion Pictures  43124945475\n",
      "15                         Warner Bros.  23804145787\n"
     ]
    }
   ],
   "source": [
    "profit_by_dist = movie_info.groupby(\"Distributor\",as_index=False)[\"Profit\"].sum()\n",
    "print(profit_by_dist)"
   ]
  },
  {
   "cell_type": "code",
   "execution_count": 28,
   "id": "1f12857d",
   "metadata": {},
   "outputs": [
    {
     "name": "stdout",
     "output_type": "stream",
     "text": [
      "<bound method NDFrame.head of      rank Release Date                                              Title  \\\n",
      "0       1   2019-04-23                                  Avengers: Endgame   \n",
      "1       2   2011-05-20        Pirates of the Caribbean: On Stranger Tides   \n",
      "2       3   2015-04-22                            Avengers: Age of Ultron   \n",
      "3       5   2018-04-25                             Avengers: Infinity War   \n",
      "4       7   2017-11-13                                     Justice League   \n",
      "..    ...          ...                                                ...   \n",
      "308   490   2015-01-29                       Kingsman: The Secret Service   \n",
      "309   491   2001-12-19  The Lord of the Rings: The Fellowship of the Ring   \n",
      "310   492   2001-07-18                                  Jurassic Park III   \n",
      "311   493   2011-08-05                     Rise of the Planet of the Apes   \n",
      "312   495   2004-10-22                                    The Incredibles   \n",
      "\n",
      "                                                   url       Cost  \\\n",
      "0           /movie/Avengers-Endgame-(2019)#tab=summary  400000000   \n",
      "1    /movie/Pirates-of-the-Caribbean-On-Stranger-Ti...  379000000   \n",
      "2            /movie/Avengers-Age-of-Ultron#tab=summary  365000000   \n",
      "3             /movie/Avengers-Infinity-War#tab=summary  300000000   \n",
      "4             /movie/Justice-League-(2017)#tab=summary  300000000   \n",
      "..                                                 ...        ...   \n",
      "308     /movie/Kingsman-The-Secret-Service#tab=summary   94000000   \n",
      "309  /movie/Lord-of-the-Rings-The-Fellowship-of-the...   93000000   \n",
      "310                 /movie/Jurassic-Park-3#tab=summary   93000000   \n",
      "311  /movie/Rise-of-the-Planet-of-the-Apes#tab=summary   93000000   \n",
      "312                 /movie/Incredibles-The#tab=summary   92000000   \n",
      "\n",
      "     domestic_gross  worldwide_gross  opening_weekend   mpaa      genre  ...  \\\n",
      "0         858373000       2797800564      357115007.0  PG-13     Action  ...   \n",
      "1         241071802       1045713802       90151958.0  PG-13  Adventure  ...   \n",
      "2         459005868       1395316979      191271109.0  PG-13     Action  ...   \n",
      "3         678815482       2048359754      257698183.0  PG-13     Action  ...   \n",
      "4         229024295        655945209       93842239.0  PG-13     Action  ...   \n",
      "..              ...              ...              ...    ...        ...  ...   \n",
      "308       128261724        404561724       36206331.0      R     Action  ...   \n",
      "309       315544750        891216824       47211490.0  PG-13  Adventure  ...   \n",
      "310       181166115        365900000       50771645.0  PG-13     Action  ...   \n",
      "311       176760185        470986200       54806191.0  PG-13  Adventure  ...   \n",
      "312       261441092        631441092       70467623.0     PG  Adventure  ...   \n",
      "\n",
      "                             Distributor               Date  \\\n",
      "0    Walt Disney Studios Motion Pictures     April 24, 2019   \n",
      "1    Walt Disney Studios Motion Pictures       May 18, 2011   \n",
      "2    Walt Disney Studios Motion Pictures     April 22, 2015   \n",
      "3    Walt Disney Studios Motion Pictures                NaN   \n",
      "4                           Warner Bros.                NaN   \n",
      "..                                   ...                ...   \n",
      "308                Twentieth Century Fox   January 30, 2015   \n",
      "309                      New Line Cinema  December 19, 2001   \n",
      "310                   Universal Pictures       July 5, 2001   \n",
      "311                Twentieth Century Fox     August 3, 2011   \n",
      "312  Walt Disney Studios Motion Pictures   November 5, 2004   \n",
      "\n",
      "     Domestic Sales (in $) International Sales (in $) World Sales  \\\n",
      "0                858373000                 1939128328  2797501328   \n",
      "1                241071802                  804642000  1045713802   \n",
      "2                459005868                  943803672  1402809540   \n",
      "3                678815482                 1369544272  2048359754   \n",
      "4                229024295                  428902692   657926987   \n",
      "..                     ...                        ...         ...   \n",
      "308              128261724                  286089822   414351546   \n",
      "309              315710750                  581979322   897690072   \n",
      "310              181171875                  187608934   368780809   \n",
      "311              176760185                  305040688   481800873   \n",
      "312              261441092                  370165961   631607053   \n",
      "\n",
      "                                              Genre  Movie Runtime  License  \\\n",
      "0        ['Action', 'Adventure', 'Drama', 'Sci-Fi']     3 hr 1 min    PG-13   \n",
      "1                ['Action', 'Adventure', 'Fantasy']    2 hr 17 min    PG-13   \n",
      "2                 ['Action', 'Adventure', 'Sci-Fi']    2 hr 21 min    PG-13   \n",
      "3                 ['Action', 'Adventure', 'Sci-Fi']    2 hr 29 min      NaN   \n",
      "4      ['Action', 'Adventure', 'Fantasy', 'Sci-Fi']           2 hr      NaN   \n",
      "..                                              ...            ...      ...   \n",
      "308   ['Action', 'Adventure', 'Comedy', 'Thriller']     2 hr 9 min        R   \n",
      "309     ['Action', 'Adventure', 'Drama', 'Fantasy']    2 hr 58 min    PG-13   \n",
      "310   ['Action', 'Adventure', 'Sci-Fi', 'Thriller']    1 hr 32 min    PG-13   \n",
      "311       ['Action', 'Drama', 'Sci-Fi', 'Thriller']    1 hr 45 min    PG-13   \n",
      "312  ['Action', 'Adventure', 'Animation', 'Family']    1 hr 55 min      NaN   \n",
      "\n",
      "         Profit      %  \n",
      "0    2397501328  4.89%  \n",
      "1     666713802  1.36%  \n",
      "2    1037809540  2.12%  \n",
      "3    1748359754  3.56%  \n",
      "4     357926987  0.73%  \n",
      "..          ...    ...  \n",
      "308   320351546  0.65%  \n",
      "309   804690072  1.64%  \n",
      "310   275780809  0.56%  \n",
      "311   388800873  0.79%  \n",
      "312   539607053   1.1%  \n",
      "\n",
      "[313 rows x 23 columns]>\n"
     ]
    }
   ],
   "source": [
    "movie_info['%'] = ((movie_info['Profit'] / movie_info['Cost'].sum())*100).round(2).astype(str) + '%'\n",
    "print(movie_info.head)"
   ]
  },
  {
   "cell_type": "code",
   "execution_count": 38,
   "id": "07d8ea1f",
   "metadata": {},
   "outputs": [
    {
     "name": "stdout",
     "output_type": "stream",
     "text": [
      "   rank Release Date                                        Title  \\\n",
      "0     1   2019-04-23                            Avengers: Endgame   \n",
      "1     2   2011-05-20  Pirates of the Caribbean: On Stranger Tides   \n",
      "2     3   2015-04-22                      Avengers: Age of Ultron   \n",
      "3     5   2018-04-25                       Avengers: Infinity War   \n",
      "4     7   2017-11-13                               Justice League   \n",
      "\n",
      "                                                 url       Cost  \\\n",
      "0         /movie/Avengers-Endgame-(2019)#tab=summary  400000000   \n",
      "1  /movie/Pirates-of-the-Caribbean-On-Stranger-Ti...  379000000   \n",
      "2          /movie/Avengers-Age-of-Ultron#tab=summary  365000000   \n",
      "3           /movie/Avengers-Infinity-War#tab=summary  300000000   \n",
      "4           /movie/Justice-League-(2017)#tab=summary  300000000   \n",
      "\n",
      "   domestic_gross  worldwide_gross  opening_weekend   mpaa      genre  ...  \\\n",
      "0       858373000       2797800564      357115007.0  PG-13     Action  ...   \n",
      "1       241071802       1045713802       90151958.0  PG-13  Adventure  ...   \n",
      "2       459005868       1395316979      191271109.0  PG-13     Action  ...   \n",
      "3       678815482       2048359754      257698183.0  PG-13     Action  ...   \n",
      "4       229024295        655945209       93842239.0  PG-13     Action  ...   \n",
      "\n",
      "                           Distributor            Date  Domestic Sales (in $)  \\\n",
      "0  Walt Disney Studios Motion Pictures  April 24, 2019              858373000   \n",
      "1  Walt Disney Studios Motion Pictures    May 18, 2011              241071802   \n",
      "2  Walt Disney Studios Motion Pictures  April 22, 2015              459005868   \n",
      "3  Walt Disney Studios Motion Pictures             NaN              678815482   \n",
      "4                         Warner Bros.             NaN              229024295   \n",
      "\n",
      "  International Sales (in $) World Sales  \\\n",
      "0                 1939128328  2797501328   \n",
      "1                  804642000  1045713802   \n",
      "2                  943803672  1402809540   \n",
      "3                 1369544272  2048359754   \n",
      "4                  428902692   657926987   \n",
      "\n",
      "                                          Genre  Movie Runtime  License  \\\n",
      "0    ['Action', 'Adventure', 'Drama', 'Sci-Fi']     3 hr 1 min    PG-13   \n",
      "1            ['Action', 'Adventure', 'Fantasy']    2 hr 17 min    PG-13   \n",
      "2             ['Action', 'Adventure', 'Sci-Fi']    2 hr 21 min    PG-13   \n",
      "3             ['Action', 'Adventure', 'Sci-Fi']    2 hr 29 min      NaN   \n",
      "4  ['Action', 'Adventure', 'Fantasy', 'Sci-Fi']           2 hr      NaN   \n",
      "\n",
      "       Profit           %  \n",
      "0  2397501328  599.375332  \n",
      "1   666713802  175.913932  \n",
      "2  1037809540  284.331381  \n",
      "3  1748359754  582.786585  \n",
      "4   357926987  119.308996  \n",
      "\n",
      "[5 rows x 23 columns]\n"
     ]
    }
   ],
   "source": [
    "movie_info['%'] = movie_info['Profit'] / movie_info['Cost'] * 100\n",
    "print(movie_info.head())"
   ]
  },
  {
   "cell_type": "code",
   "execution_count": 48,
   "id": "e7c42313",
   "metadata": {},
   "outputs": [
    {
     "data": {
      "image/png": "[encoded data removed]",
      "text/plain": [
       "<Figure size 432x288 with 1 Axes>"
      ]
     },
     "metadata": {
      "needs_background": "light"
     },
     "output_type": "display_data"
    }
   ],
   "source": [
    "import matplotlib.pyplot as plt\n",
    "import seaborn as sns\n",
    "sns.barplot(x='%',y='Title',data = movie_info.iloc[:10],palette='magma')\n",
    "plt.ylabel('Movie Name')\n",
    "plt.xlabel('Collection (% of budget)')\n",
    "plt.title('Top 10 Movies')\n",
    "plt.xticks([0,50,100,250,500,750], ['0','50','100','250','500','750'])\n",
    "plt.show()"
   ]
  },
  {
   "cell_type": "code",
   "execution_count": 50,
   "id": "509cdbd5",
   "metadata": {},
   "outputs": [
    {
     "name": "stdout",
     "output_type": "stream",
     "text": [
      "                                             Title            %\n",
      "248  The Lord of the Rings: The Return of the King  1119.181821\n",
      "13                                          Avatar  1101.369706\n",
      "270                                        Titanic  1000.823632\n",
      "249          The Lord of the Rings: The Two Towers   907.973505\n",
      "70                                    Finding Nemo   900.375154\n",
      "..                                             ...          ...\n",
      "246                                The Lone Ranger    15.778718\n",
      "113                                  Jungle Cruise    10.444723\n",
      "217                                   The Campaign    10.429206\n",
      "85                                   Green Lantern     9.925586\n",
      "62                                   Evan Almighty    -0.319586\n",
      "\n",
      "[304 rows x 2 columns]\n"
     ]
    }
   ],
   "source": [
    "profit_by_perc = movie_info.groupby(\"Title\",as_index=False)[\"%\"].sum()\n",
    "sorted_profit_by_perc=profit_by_perc.sort_values(\"%\",ascending=False)\n",
    "print(sorted_profit_by_perc)"
   ]
  },
  {
   "cell_type": "code",
   "execution_count": 54,
   "id": "7e17e28d",
   "metadata": {},
   "outputs": [
    {
     "data": {
      "image/png": "[encoded data removed]",
      "text/plain": [
       "<Figure size 432x288 with 1 Axes>"
      ]
     },
     "metadata": {
      "needs_background": "light"
     },
     "output_type": "display_data"
    }
   ],
   "source": [
    "import matplotlib.pyplot as plt\n",
    "import seaborn as sns\n",
    "sns.barplot(x='%',y='Title',data = sorted_profit_by_perc.head(20),palette='magma')\n",
    "plt.ylabel('Movie Name')\n",
    "plt.xlabel('Collection (% of budget)')\n",
    "plt.title('Top 10 Movies')\n",
    "plt.xticks([0,50,100,250,500,750,1000,1250], ['0','50','100','250','500','750','1000','1250'])\n",
    "plt.show()"
   ]
  },
  {
   "cell_type": "code",
   "execution_count": null,
   "id": "9d7853e6",
   "metadata": {},
   "outputs": [],
   "source": []
  }
 ],
 "metadata": {
  "kernelspec": {
   "display_name": "Python 3",
   "language": "python",
   "name": "python3"
  },
  "language_info": {
   "codemirror_mode": {
    "name": "ipython",
    "version": 3
   },
   "file_extension": ".py",
   "mimetype": "text/x-python",
   "name": "python",
   "nbconvert_exporter": "python",
   "pygments_lexer": "ipython3",
   "version": "3.8.8"
  }
 },
 "nbformat": 4,
 "nbformat_minor": 5
}
